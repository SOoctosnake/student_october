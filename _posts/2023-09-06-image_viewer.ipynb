{
 "cells": [
  {
   "cell_type": "markdown",
   "metadata": {},
   "source": [
    "---\n",
    "comments: false\n",
    "layout: post\n",
    "title: Image Viewer\n",
    "description: View any image\n",
    "type: hacks\n",
    "courses: {'compsci': {'week': 3}}\n",
    "---\n"
   ]
  },
  {
   "cell_type": "code",
   "execution_count": null,
   "metadata": {},
   "outputs": [],
   "source": [
    "import tkinter as tk\n",
    "from tkinter import filedialog\n",
    "from PIL import Image, ImageTk\n",
    "\n",
    "# Function to open and display an image\n",
    "def display_image():\n",
    "    # Open a file dialog for the user to select an image\n",
    "    file_path = filedialog.askopenfilename()\n",
    "    \n",
    "    if file_path:\n",
    "        # Open and display the selected image using Pillow (PIL)\n",
    "        img = Image.open(file_path)\n",
    "        img = img.resize((400, 400))  # Resize the image to fit the window\n",
    "        img = ImageTk.PhotoImage(img)\n",
    "        \n",
    "        # Create a label to display the image\n",
    "        img_label.config(image=img)\n",
    "        img_label.image = img\n",
    "\n",
    "# Create a GUI window\n",
    "root = tk.Tk()\n",
    "root.title('Image Viewer')\n",
    "\n",
    "# Create a button to trigger image selection and display\n",
    "open_button = tk.Button(root, text='Open Image', command=display_image)\n",
    "open_button.pack(pady=20)\n",
    "\n",
    "# Create a label to display the image\n",
    "img_label = tk.Label(root)\n",
    "img_label.pack()\n",
    "\n",
    "root.mainloop()\n"
   ]
  }
 ],
 "metadata": {
  "kernelspec": {
   "display_name": "Python 3",
   "language": "python",
   "name": "python3"
  },
  "language_info": {
   "codemirror_mode": {
    "name": "ipython",
    "version": 3
   },
   "file_extension": ".py",
   "mimetype": "text/x-python",
   "name": "python",
   "nbconvert_exporter": "python",
   "pygments_lexer": "ipython3",
   "version": "3.10.12"
  },
  "orig_nbformat": 4
 },
 "nbformat": 4,
 "nbformat_minor": 2
}
