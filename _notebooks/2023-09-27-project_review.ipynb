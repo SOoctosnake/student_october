{
 "cells": [
  {
   "cell_type": "markdown",
   "metadata": {},
   "source": [
    "# Review 9/27/2023\n",
    "\n",
    "In my notebook, I successfully completed a series of tasks related to HTML and JavaScript. First, I created a functional HTML code cell, meticulously following the wireframe representation provided in the HTML hack section. Next, I tackled data types in JavaScript, implementing a working code cell based on the instructions in the data types hack. Additionally, I ventured into the realm of the Document Object Model (DOM) with another JavaScript code cell. Furthermore, I delved into JavaScript scripting, completing a code cell that demonstrated the language's scripting capabilities as described in the JavaScript hack. This was especially difficult since it was my first time using JS. Finally, to ensure accuracy and error-free code, I incorporated code cells that showcased the corrections made to the initial three code cells, as instructed in the Correcting Errors Hack. I also answered the Challenge problem."
   ]
  },
  {
   "cell_type": "code",
   "execution_count": 1,
   "metadata": {},
   "outputs": [
    {
     "name": "stdout",
     "output_type": "stream",
     "text": [
      "Thanks for your time\n"
     ]
    }
   ],
   "source": [
    "print(\"Thanks for your time\")"
   ]
  }
 ],
 "metadata": {
  "kernelspec": {
   "display_name": "Python 3",
   "language": "python",
   "name": "python3"
  },
  "language_info": {
   "codemirror_mode": {
    "name": "ipython",
    "version": 3
   },
   "file_extension": ".py",
   "mimetype": "text/x-python",
   "name": "python",
   "nbconvert_exporter": "python",
   "pygments_lexer": "ipython3",
   "version": "3.8.10"
  },
  "orig_nbformat": 4
 },
 "nbformat": 4,
 "nbformat_minor": 2
}
